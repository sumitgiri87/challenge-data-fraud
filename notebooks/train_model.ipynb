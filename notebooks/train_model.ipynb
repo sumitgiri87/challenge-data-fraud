{
 "cells": [
  {
   "cell_type": "code",
   "execution_count": 38,
   "id": "c3d0ce15",
   "metadata": {},
   "outputs": [],
   "source": [
    "import os\n",
    "import numpy as np\n",
    "import pandas as pd"
   ]
  },
  {
   "cell_type": "code",
   "execution_count": 1,
   "id": "8582284c",
   "metadata": {},
   "outputs": [],
   "source": [
    "from sklearn.model_selection import train_test_split\n",
    "from sklearn.preprocessing import LabelEncoder\n",
    "from sklearn.ensemble import RandomForestClassifier\n",
    "from imblearn.over_sampling import SMOTE\n",
    "from sklearn.metrics import average_precision_score"
   ]
  },
  {
   "cell_type": "code",
   "execution_count": 2,
   "id": "48a7e9ee",
   "metadata": {},
   "outputs": [
    {
     "name": "stdout",
     "output_type": "stream",
     "text": [
      "Data directory: c:\\Users\\kakai\\Documents\\Work\\ML\\Projects\\challenge-data-fraud\\data\n"
     ]
    }
   ],
   "source": [
    "import os\n",
    "\n",
    "# Get the root directory (one level up from the notebook directory)\n",
    "ROOT_DIR = os.path.abspath(os.path.join(os.getcwd(), os.pardir))\n",
    "\n",
    "# Define the data directory relative to the root\n",
    "DATA_DIR = os.path.join(ROOT_DIR, \"data\")\n",
    "\n",
    "print(\"Data directory:\", DATA_DIR)  # Debugging\n"
   ]
  },
  {
   "cell_type": "code",
   "execution_count": 3,
   "id": "fe8ee15d",
   "metadata": {},
   "outputs": [],
   "source": [
    "# Function to list all files in the data directory\n",
    "def list_data_files(directory):\n",
    "    if not os.path.exists(directory):\n",
    "        print(f\"Warning: Data directory '{directory}' does not exist.\")\n",
    "        return []\n",
    "    \n",
    "    files = []\n",
    "    for dirname, _, filenames in os.walk(directory):\n",
    "        for filename in filenames:\n",
    "            files.append(os.path.join(dirname, filename))\n",
    "    return files"
   ]
  },
  {
   "cell_type": "code",
   "execution_count": 4,
   "id": "396ce7b7",
   "metadata": {},
   "outputs": [
    {
     "name": "stdout",
     "output_type": "stream",
     "text": [
      "Available data files: ['c:\\\\Users\\\\kakai\\\\Documents\\\\Work\\\\ML\\\\Projects\\\\challenge-data-fraud\\\\data\\\\X_test_8skS2ey.csv', 'c:\\\\Users\\\\kakai\\\\Documents\\\\Work\\\\ML\\\\Projects\\\\challenge-data-fraud\\\\data\\\\X_train_G3tdtEn.csv', 'c:\\\\Users\\\\kakai\\\\Documents\\\\Work\\\\ML\\\\Projects\\\\challenge-data-fraud\\\\data\\\\Y_test_random_2.csv', 'c:\\\\Users\\\\kakai\\\\Documents\\\\Work\\\\ML\\\\Projects\\\\challenge-data-fraud\\\\data\\\\Y_train_2_XPXJDyy.csv']\n"
     ]
    }
   ],
   "source": [
    "# Print all available data files\n",
    "data_files = list_data_files(DATA_DIR)\n",
    "if data_files:\n",
    "    print(\"Available data files:\", data_files)"
   ]
  },
  {
   "cell_type": "code",
   "execution_count": 5,
   "id": "348a3f86",
   "metadata": {},
   "outputs": [
    {
     "name": "stderr",
     "output_type": "stream",
     "text": [
      "C:\\Users\\kakai\\AppData\\Local\\Temp\\ipykernel_29232\\3455644467.py:3: DtypeWarning: Columns (21,22,23,24,69,70,71,72,93,94,95,96,97,104,105,106,107,108,109,110,111,112,113,114,115,116,117,118,119,120) have mixed types. Specify dtype option on import or set low_memory=False.\n",
      "  X_train = pd.read_csv(os.path.join(DATA_DIR, \"X_train_G3tdtEn.csv\"))\n"
     ]
    },
    {
     "name": "stdout",
     "output_type": "stream",
     "text": [
      "Data loaded successfully!\n"
     ]
    },
    {
     "name": "stderr",
     "output_type": "stream",
     "text": [
      "C:\\Users\\kakai\\AppData\\Local\\Temp\\ipykernel_29232\\3455644467.py:5: DtypeWarning: Columns (20,21,22,23,24,68,69,70,71,72,92,93,94,95,96,97,106,107,108,109,110,111,112,113,114,115,116,117,118) have mixed types. Specify dtype option on import or set low_memory=False.\n",
      "  X_test = pd.read_csv(os.path.join(DATA_DIR, \"X_test_8skS2ey.csv\"))\n"
     ]
    }
   ],
   "source": [
    "import pandas as pd\n",
    "\n",
    "X_train = pd.read_csv(os.path.join(DATA_DIR, \"X_train_G3tdtEn.csv\"))\n",
    "Y_train = pd.read_csv(os.path.join(DATA_DIR, \"Y_train_2_XPXJDyy.csv\"))\n",
    "X_test = pd.read_csv(os.path.join(DATA_DIR, \"X_test_8skS2ey.csv\"))\n",
    "Y_test_example = pd.read_csv(os.path.join(DATA_DIR, \"Y_test_random_2.csv\"))\n",
    "\n",
    "print(\"Data loaded successfully!\")\n"
   ]
  },
  {
   "cell_type": "code",
   "execution_count": 6,
   "id": "6e732613",
   "metadata": {
    "execution": {
     "iopub.execute_input": "2023-12-22T20:47:34.455732Z",
     "iopub.status.busy": "2023-12-22T20:47:34.455079Z",
     "iopub.status.idle": "2023-12-22T20:47:36.063408Z",
     "shell.execute_reply": "2023-12-22T20:47:36.062301Z"
    },
    "papermill": {
     "duration": 1.62069,
     "end_time": "2023-12-22T20:47:36.066566",
     "exception": false,
     "start_time": "2023-12-22T20:47:34.445876",
     "status": "completed"
    },
    "tags": []
   },
   "outputs": [],
   "source": [
    "from sklearn.compose import ColumnTransformer\n",
    "from sklearn.pipeline import Pipeline"
   ]
  },
  {
   "cell_type": "code",
   "execution_count": 7,
   "id": "c9d1b73e",
   "metadata": {
    "execution": {
     "iopub.execute_input": "2023-12-22T20:47:37.831709Z",
     "iopub.status.busy": "2023-12-22T20:47:37.830918Z",
     "iopub.status.idle": "2023-12-22T20:47:37.873745Z",
     "shell.execute_reply": "2023-12-22T20:47:37.872386Z"
    },
    "papermill": {
     "duration": 0.056428,
     "end_time": "2023-12-22T20:47:37.875901",
     "exception": false,
     "start_time": "2023-12-22T20:47:37.819473",
     "status": "completed"
    },
    "tags": []
   },
   "outputs": [
    {
     "data": {
      "text/html": [
       "<div>\n",
       "<style scoped>\n",
       "    .dataframe tbody tr th:only-of-type {\n",
       "        vertical-align: middle;\n",
       "    }\n",
       "\n",
       "    .dataframe tbody tr th {\n",
       "        vertical-align: top;\n",
       "    }\n",
       "\n",
       "    .dataframe thead th {\n",
       "        text-align: right;\n",
       "    }\n",
       "</style>\n",
       "<table border=\"1\" class=\"dataframe\">\n",
       "  <thead>\n",
       "    <tr style=\"text-align: right;\">\n",
       "      <th></th>\n",
       "      <th>ID</th>\n",
       "      <th>item1</th>\n",
       "      <th>item2</th>\n",
       "      <th>item3</th>\n",
       "      <th>item4</th>\n",
       "      <th>item5</th>\n",
       "      <th>item6</th>\n",
       "      <th>item7</th>\n",
       "      <th>item8</th>\n",
       "      <th>item9</th>\n",
       "      <th>...</th>\n",
       "      <th>Nbr_of_prod_purchas16</th>\n",
       "      <th>Nbr_of_prod_purchas17</th>\n",
       "      <th>Nbr_of_prod_purchas18</th>\n",
       "      <th>Nbr_of_prod_purchas19</th>\n",
       "      <th>Nbr_of_prod_purchas20</th>\n",
       "      <th>Nbr_of_prod_purchas21</th>\n",
       "      <th>Nbr_of_prod_purchas22</th>\n",
       "      <th>Nbr_of_prod_purchas23</th>\n",
       "      <th>Nbr_of_prod_purchas24</th>\n",
       "      <th>Nb_of_items</th>\n",
       "    </tr>\n",
       "  </thead>\n",
       "  <tbody>\n",
       "    <tr>\n",
       "      <th>0</th>\n",
       "      <td>85517</td>\n",
       "      <td>COMPUTERS</td>\n",
       "      <td>NaN</td>\n",
       "      <td>NaN</td>\n",
       "      <td>NaN</td>\n",
       "      <td>NaN</td>\n",
       "      <td>NaN</td>\n",
       "      <td>NaN</td>\n",
       "      <td>NaN</td>\n",
       "      <td>NaN</td>\n",
       "      <td>...</td>\n",
       "      <td>NaN</td>\n",
       "      <td>NaN</td>\n",
       "      <td>NaN</td>\n",
       "      <td>NaN</td>\n",
       "      <td>NaN</td>\n",
       "      <td>NaN</td>\n",
       "      <td>NaN</td>\n",
       "      <td>NaN</td>\n",
       "      <td>NaN</td>\n",
       "      <td>1.0</td>\n",
       "    </tr>\n",
       "  </tbody>\n",
       "</table>\n",
       "<p>1 rows × 146 columns</p>\n",
       "</div>"
      ],
      "text/plain": [
       "      ID      item1 item2 item3 item4 item5 item6 item7 item8 item9  ...  \\\n",
       "0  85517  COMPUTERS   NaN   NaN   NaN   NaN   NaN   NaN   NaN   NaN  ...   \n",
       "\n",
       "  Nbr_of_prod_purchas16 Nbr_of_prod_purchas17 Nbr_of_prod_purchas18  \\\n",
       "0                   NaN                   NaN                   NaN   \n",
       "\n",
       "  Nbr_of_prod_purchas19 Nbr_of_prod_purchas20 Nbr_of_prod_purchas21  \\\n",
       "0                   NaN                   NaN                   NaN   \n",
       "\n",
       "  Nbr_of_prod_purchas22 Nbr_of_prod_purchas23 Nbr_of_prod_purchas24  \\\n",
       "0                   NaN                   NaN                   NaN   \n",
       "\n",
       "  Nb_of_items  \n",
       "0         1.0  \n",
       "\n",
       "[1 rows x 146 columns]"
      ]
     },
     "execution_count": 7,
     "metadata": {},
     "output_type": "execute_result"
    }
   ],
   "source": [
    "X_train.head(1)"
   ]
  },
  {
   "cell_type": "code",
   "execution_count": 8,
   "id": "55967c3a",
   "metadata": {
    "execution": {
     "iopub.execute_input": "2023-12-22T20:47:37.895863Z",
     "iopub.status.busy": "2023-12-22T20:47:37.895516Z",
     "iopub.status.idle": "2023-12-22T20:47:37.903851Z",
     "shell.execute_reply": "2023-12-22T20:47:37.902715Z"
    },
    "papermill": {
     "duration": 0.02036,
     "end_time": "2023-12-22T20:47:37.905948",
     "exception": false,
     "start_time": "2023-12-22T20:47:37.885588",
     "status": "completed"
    },
    "tags": []
   },
   "outputs": [
    {
     "data": {
      "text/html": [
       "<div>\n",
       "<style scoped>\n",
       "    .dataframe tbody tr th:only-of-type {\n",
       "        vertical-align: middle;\n",
       "    }\n",
       "\n",
       "    .dataframe tbody tr th {\n",
       "        vertical-align: top;\n",
       "    }\n",
       "\n",
       "    .dataframe thead th {\n",
       "        text-align: right;\n",
       "    }\n",
       "</style>\n",
       "<table border=\"1\" class=\"dataframe\">\n",
       "  <thead>\n",
       "    <tr style=\"text-align: right;\">\n",
       "      <th></th>\n",
       "      <th>index</th>\n",
       "      <th>ID</th>\n",
       "      <th>fraud_flag</th>\n",
       "    </tr>\n",
       "  </thead>\n",
       "  <tbody>\n",
       "    <tr>\n",
       "      <th>0</th>\n",
       "      <td>0</td>\n",
       "      <td>85517</td>\n",
       "      <td>0</td>\n",
       "    </tr>\n",
       "  </tbody>\n",
       "</table>\n",
       "</div>"
      ],
      "text/plain": [
       "   index     ID  fraud_flag\n",
       "0      0  85517           0"
      ]
     },
     "execution_count": 8,
     "metadata": {},
     "output_type": "execute_result"
    }
   ],
   "source": [
    "Y_train.head(1)"
   ]
  },
  {
   "cell_type": "code",
   "execution_count": 9,
   "id": "83bf54b1",
   "metadata": {
    "execution": {
     "iopub.execute_input": "2023-12-22T20:47:37.924509Z",
     "iopub.status.busy": "2023-12-22T20:47:37.924185Z",
     "iopub.status.idle": "2023-12-22T20:47:37.941571Z",
     "shell.execute_reply": "2023-12-22T20:47:37.940691Z"
    },
    "papermill": {
     "duration": 0.029657,
     "end_time": "2023-12-22T20:47:37.944354",
     "exception": false,
     "start_time": "2023-12-22T20:47:37.914697",
     "status": "completed"
    },
    "tags": []
   },
   "outputs": [
    {
     "data": {
      "text/html": [
       "<div>\n",
       "<style scoped>\n",
       "    .dataframe tbody tr th:only-of-type {\n",
       "        vertical-align: middle;\n",
       "    }\n",
       "\n",
       "    .dataframe tbody tr th {\n",
       "        vertical-align: top;\n",
       "    }\n",
       "\n",
       "    .dataframe thead th {\n",
       "        text-align: right;\n",
       "    }\n",
       "</style>\n",
       "<table border=\"1\" class=\"dataframe\">\n",
       "  <thead>\n",
       "    <tr style=\"text-align: right;\">\n",
       "      <th></th>\n",
       "      <th>ID</th>\n",
       "      <th>item1</th>\n",
       "      <th>item2</th>\n",
       "      <th>item3</th>\n",
       "      <th>item4</th>\n",
       "      <th>item5</th>\n",
       "      <th>item6</th>\n",
       "      <th>item7</th>\n",
       "      <th>item8</th>\n",
       "      <th>item9</th>\n",
       "      <th>...</th>\n",
       "      <th>Nbr_of_prod_purchas16</th>\n",
       "      <th>Nbr_of_prod_purchas17</th>\n",
       "      <th>Nbr_of_prod_purchas18</th>\n",
       "      <th>Nbr_of_prod_purchas19</th>\n",
       "      <th>Nbr_of_prod_purchas20</th>\n",
       "      <th>Nbr_of_prod_purchas21</th>\n",
       "      <th>Nbr_of_prod_purchas22</th>\n",
       "      <th>Nbr_of_prod_purchas23</th>\n",
       "      <th>Nbr_of_prod_purchas24</th>\n",
       "      <th>Nb_of_items</th>\n",
       "    </tr>\n",
       "  </thead>\n",
       "  <tbody>\n",
       "    <tr>\n",
       "      <th>0</th>\n",
       "      <td>64707</td>\n",
       "      <td>HEALTH BEAUTY ELECTRICAL</td>\n",
       "      <td>NaN</td>\n",
       "      <td>NaN</td>\n",
       "      <td>NaN</td>\n",
       "      <td>NaN</td>\n",
       "      <td>NaN</td>\n",
       "      <td>NaN</td>\n",
       "      <td>NaN</td>\n",
       "      <td>NaN</td>\n",
       "      <td>...</td>\n",
       "      <td>NaN</td>\n",
       "      <td>NaN</td>\n",
       "      <td>NaN</td>\n",
       "      <td>NaN</td>\n",
       "      <td>NaN</td>\n",
       "      <td>NaN</td>\n",
       "      <td>NaN</td>\n",
       "      <td>NaN</td>\n",
       "      <td>NaN</td>\n",
       "      <td>1.0</td>\n",
       "    </tr>\n",
       "  </tbody>\n",
       "</table>\n",
       "<p>1 rows × 146 columns</p>\n",
       "</div>"
      ],
      "text/plain": [
       "      ID                     item1 item2 item3 item4 item5 item6 item7 item8  \\\n",
       "0  64707  HEALTH BEAUTY ELECTRICAL   NaN   NaN   NaN   NaN   NaN   NaN   NaN   \n",
       "\n",
       "  item9  ... Nbr_of_prod_purchas16 Nbr_of_prod_purchas17  \\\n",
       "0   NaN  ...                   NaN                   NaN   \n",
       "\n",
       "  Nbr_of_prod_purchas18 Nbr_of_prod_purchas19 Nbr_of_prod_purchas20  \\\n",
       "0                   NaN                   NaN                   NaN   \n",
       "\n",
       "  Nbr_of_prod_purchas21 Nbr_of_prod_purchas22 Nbr_of_prod_purchas23  \\\n",
       "0                   NaN                   NaN                   NaN   \n",
       "\n",
       "  Nbr_of_prod_purchas24 Nb_of_items  \n",
       "0                   NaN         1.0  \n",
       "\n",
       "[1 rows x 146 columns]"
      ]
     },
     "execution_count": 9,
     "metadata": {},
     "output_type": "execute_result"
    }
   ],
   "source": [
    "X_test.head(1)"
   ]
  },
  {
   "cell_type": "code",
   "execution_count": 10,
   "id": "849ed2dc",
   "metadata": {
    "execution": {
     "iopub.execute_input": "2023-12-22T20:47:37.963427Z",
     "iopub.status.busy": "2023-12-22T20:47:37.963064Z",
     "iopub.status.idle": "2023-12-22T20:47:37.974166Z",
     "shell.execute_reply": "2023-12-22T20:47:37.972431Z"
    },
    "papermill": {
     "duration": 0.022722,
     "end_time": "2023-12-22T20:47:37.976110",
     "exception": false,
     "start_time": "2023-12-22T20:47:37.953388",
     "status": "completed"
    },
    "tags": []
   },
   "outputs": [
    {
     "data": {
      "text/html": [
       "<div>\n",
       "<style scoped>\n",
       "    .dataframe tbody tr th:only-of-type {\n",
       "        vertical-align: middle;\n",
       "    }\n",
       "\n",
       "    .dataframe tbody tr th {\n",
       "        vertical-align: top;\n",
       "    }\n",
       "\n",
       "    .dataframe thead th {\n",
       "        text-align: right;\n",
       "    }\n",
       "</style>\n",
       "<table border=\"1\" class=\"dataframe\">\n",
       "  <thead>\n",
       "    <tr style=\"text-align: right;\">\n",
       "      <th></th>\n",
       "      <th>index</th>\n",
       "      <th>ID</th>\n",
       "      <th>fraud_flag</th>\n",
       "    </tr>\n",
       "  </thead>\n",
       "  <tbody>\n",
       "    <tr>\n",
       "      <th>0</th>\n",
       "      <td>0</td>\n",
       "      <td>64707</td>\n",
       "      <td>0.165105</td>\n",
       "    </tr>\n",
       "  </tbody>\n",
       "</table>\n",
       "</div>"
      ],
      "text/plain": [
       "   index     ID  fraud_flag\n",
       "0      0  64707    0.165105"
      ]
     },
     "execution_count": 10,
     "metadata": {},
     "output_type": "execute_result"
    }
   ],
   "source": [
    "Y_test_example.head(1)"
   ]
  },
  {
   "cell_type": "code",
   "execution_count": 11,
   "id": "ee45be3d",
   "metadata": {
    "execution": {
     "iopub.execute_input": "2023-12-22T20:47:37.995102Z",
     "iopub.status.busy": "2023-12-22T20:47:37.994613Z",
     "iopub.status.idle": "2023-12-22T20:47:38.002940Z",
     "shell.execute_reply": "2023-12-22T20:47:38.000974Z"
    },
    "papermill": {
     "duration": 0.021432,
     "end_time": "2023-12-22T20:47:38.006022",
     "exception": false,
     "start_time": "2023-12-22T20:47:37.984590",
     "status": "completed"
    },
    "tags": []
   },
   "outputs": [],
   "source": [
    "def clean_headers(val):\n",
    "    if isinstance(val,str):\n",
    "        # removes special chars(but skips empty spaces and all)\n",
    "        val=\"\".join(char for char in val if char.isalnum() or char in (\" \", \"_\"))\n",
    "        # converts to snake case\n",
    "        val=val.strip().lower().replace(\" \", \"_\")\n",
    "        return val\n",
    "    else:\n",
    "        return val"
   ]
  },
  {
   "cell_type": "code",
   "execution_count": 12,
   "id": "ee86c277",
   "metadata": {
    "execution": {
     "iopub.execute_input": "2023-12-22T20:47:38.024910Z",
     "iopub.status.busy": "2023-12-22T20:47:38.024557Z",
     "iopub.status.idle": "2023-12-22T20:47:38.087840Z",
     "shell.execute_reply": "2023-12-22T20:47:38.086414Z"
    },
    "papermill": {
     "duration": 0.077215,
     "end_time": "2023-12-22T20:47:38.092203",
     "exception": false,
     "start_time": "2023-12-22T20:47:38.014988",
     "status": "completed"
    },
    "tags": []
   },
   "outputs": [],
   "source": [
    "X_train=X_train.rename(columns=clean_headers)"
   ]
  },
  {
   "cell_type": "code",
   "execution_count": 13,
   "id": "243f8009",
   "metadata": {
    "execution": {
     "iopub.execute_input": "2023-12-22T20:47:38.112804Z",
     "iopub.status.busy": "2023-12-22T20:47:38.112430Z",
     "iopub.status.idle": "2023-12-22T20:47:38.129750Z",
     "shell.execute_reply": "2023-12-22T20:47:38.128366Z"
    },
    "papermill": {
     "duration": 0.031201,
     "end_time": "2023-12-22T20:47:38.133064",
     "exception": false,
     "start_time": "2023-12-22T20:47:38.101863",
     "status": "completed"
    },
    "tags": []
   },
   "outputs": [],
   "source": [
    "X_test=X_test.rename(columns=clean_headers)"
   ]
  },
  {
   "cell_type": "code",
   "execution_count": 14,
   "id": "99fa24a5",
   "metadata": {
    "execution": {
     "iopub.execute_input": "2023-12-22T20:47:38.152700Z",
     "iopub.status.busy": "2023-12-22T20:47:38.152311Z",
     "iopub.status.idle": "2023-12-22T20:47:38.477572Z",
     "shell.execute_reply": "2023-12-22T20:47:38.475665Z"
    },
    "papermill": {
     "duration": 0.338616,
     "end_time": "2023-12-22T20:47:38.480838",
     "exception": false,
     "start_time": "2023-12-22T20:47:38.142222",
     "status": "completed"
    },
    "tags": []
   },
   "outputs": [],
   "source": [
    "data_train_test=pd.concat([X_test.assign(ind=\"test\"), X_train.assign(ind=\"train\")])"
   ]
  },
  {
   "cell_type": "code",
   "execution_count": 15,
   "id": "9843bc1c",
   "metadata": {
    "execution": {
     "iopub.execute_input": "2023-12-22T20:47:38.501724Z",
     "iopub.status.busy": "2023-12-22T20:47:38.501317Z",
     "iopub.status.idle": "2023-12-22T20:47:38.509558Z",
     "shell.execute_reply": "2023-12-22T20:47:38.507746Z"
    },
    "papermill": {
     "duration": 0.021988,
     "end_time": "2023-12-22T20:47:38.511969",
     "exception": false,
     "start_time": "2023-12-22T20:47:38.489981",
     "status": "completed"
    },
    "tags": []
   },
   "outputs": [
    {
     "data": {
      "text/plain": [
       "(115988, 147)"
      ]
     },
     "execution_count": 15,
     "metadata": {},
     "output_type": "execute_result"
    }
   ],
   "source": [
    "data_train_test.shape"
   ]
  },
  {
   "cell_type": "code",
   "execution_count": 16,
   "id": "af8eac26",
   "metadata": {
    "execution": {
     "iopub.execute_input": "2023-12-22T20:47:38.534611Z",
     "iopub.status.busy": "2023-12-22T20:47:38.533250Z",
     "iopub.status.idle": "2023-12-22T20:47:38.555342Z",
     "shell.execute_reply": "2023-12-22T20:47:38.553866Z"
    },
    "papermill": {
     "duration": 0.036289,
     "end_time": "2023-12-22T20:47:38.557732",
     "exception": false,
     "start_time": "2023-12-22T20:47:38.521443",
     "status": "completed"
    },
    "tags": []
   },
   "outputs": [
    {
     "data": {
      "text/html": [
       "<div>\n",
       "<style scoped>\n",
       "    .dataframe tbody tr th:only-of-type {\n",
       "        vertical-align: middle;\n",
       "    }\n",
       "\n",
       "    .dataframe tbody tr th {\n",
       "        vertical-align: top;\n",
       "    }\n",
       "\n",
       "    .dataframe thead th {\n",
       "        text-align: right;\n",
       "    }\n",
       "</style>\n",
       "<table border=\"1\" class=\"dataframe\">\n",
       "  <thead>\n",
       "    <tr style=\"text-align: right;\">\n",
       "      <th></th>\n",
       "      <th>id</th>\n",
       "      <th>item1</th>\n",
       "      <th>item2</th>\n",
       "      <th>item3</th>\n",
       "      <th>item4</th>\n",
       "      <th>item5</th>\n",
       "      <th>item6</th>\n",
       "      <th>item7</th>\n",
       "      <th>item8</th>\n",
       "      <th>item9</th>\n",
       "      <th>...</th>\n",
       "      <th>nbr_of_prod_purchas17</th>\n",
       "      <th>nbr_of_prod_purchas18</th>\n",
       "      <th>nbr_of_prod_purchas19</th>\n",
       "      <th>nbr_of_prod_purchas20</th>\n",
       "      <th>nbr_of_prod_purchas21</th>\n",
       "      <th>nbr_of_prod_purchas22</th>\n",
       "      <th>nbr_of_prod_purchas23</th>\n",
       "      <th>nbr_of_prod_purchas24</th>\n",
       "      <th>nb_of_items</th>\n",
       "      <th>ind</th>\n",
       "    </tr>\n",
       "  </thead>\n",
       "  <tbody>\n",
       "    <tr>\n",
       "      <th>0</th>\n",
       "      <td>64707</td>\n",
       "      <td>HEALTH BEAUTY ELECTRICAL</td>\n",
       "      <td>NaN</td>\n",
       "      <td>NaN</td>\n",
       "      <td>NaN</td>\n",
       "      <td>NaN</td>\n",
       "      <td>NaN</td>\n",
       "      <td>NaN</td>\n",
       "      <td>NaN</td>\n",
       "      <td>NaN</td>\n",
       "      <td>...</td>\n",
       "      <td>NaN</td>\n",
       "      <td>NaN</td>\n",
       "      <td>NaN</td>\n",
       "      <td>NaN</td>\n",
       "      <td>NaN</td>\n",
       "      <td>NaN</td>\n",
       "      <td>NaN</td>\n",
       "      <td>NaN</td>\n",
       "      <td>1.0</td>\n",
       "      <td>test</td>\n",
       "    </tr>\n",
       "  </tbody>\n",
       "</table>\n",
       "<p>1 rows × 147 columns</p>\n",
       "</div>"
      ],
      "text/plain": [
       "      id                     item1 item2 item3 item4 item5 item6 item7 item8  \\\n",
       "0  64707  HEALTH BEAUTY ELECTRICAL   NaN   NaN   NaN   NaN   NaN   NaN   NaN   \n",
       "\n",
       "  item9  ... nbr_of_prod_purchas17 nbr_of_prod_purchas18  \\\n",
       "0   NaN  ...                   NaN                   NaN   \n",
       "\n",
       "  nbr_of_prod_purchas19 nbr_of_prod_purchas20 nbr_of_prod_purchas21  \\\n",
       "0                   NaN                   NaN                   NaN   \n",
       "\n",
       "  nbr_of_prod_purchas22 nbr_of_prod_purchas23 nbr_of_prod_purchas24  \\\n",
       "0                   NaN                   NaN                   NaN   \n",
       "\n",
       "  nb_of_items   ind  \n",
       "0         1.0  test  \n",
       "\n",
       "[1 rows x 147 columns]"
      ]
     },
     "execution_count": 16,
     "metadata": {},
     "output_type": "execute_result"
    }
   ],
   "source": [
    "data_train_test.head(1)"
   ]
  },
  {
   "cell_type": "code",
   "execution_count": 17,
   "id": "fd5df042",
   "metadata": {
    "execution": {
     "iopub.execute_input": "2023-12-22T20:47:38.578692Z",
     "iopub.status.busy": "2023-12-22T20:47:38.578327Z",
     "iopub.status.idle": "2023-12-22T20:47:38.582308Z",
     "shell.execute_reply": "2023-12-22T20:47:38.581415Z"
    },
    "papermill": {
     "duration": 0.016168,
     "end_time": "2023-12-22T20:47:38.583973",
     "exception": false,
     "start_time": "2023-12-22T20:47:38.567805",
     "status": "completed"
    },
    "tags": []
   },
   "outputs": [],
   "source": [
    "# 'ind' is the column to exclude.\n",
    "columns_to_exclude = ['ind']"
   ]
  },
  {
   "cell_type": "code",
   "execution_count": 18,
   "id": "d46002c3",
   "metadata": {
    "execution": {
     "iopub.execute_input": "2023-12-22T20:47:38.605958Z",
     "iopub.status.busy": "2023-12-22T20:47:38.603838Z",
     "iopub.status.idle": "2023-12-22T20:47:38.947800Z",
     "shell.execute_reply": "2023-12-22T20:47:38.946958Z"
    },
    "papermill": {
     "duration": 0.356823,
     "end_time": "2023-12-22T20:47:38.950293",
     "exception": false,
     "start_time": "2023-12-22T20:47:38.593470",
     "status": "completed"
    },
    "tags": []
   },
   "outputs": [],
   "source": [
    "# Select categorical columns excluding the ones to exclude\n",
    "categorical_columns = [col for col in data_train_test.select_dtypes(['object', 'category']).columns if col not in columns_to_exclude]"
   ]
  },
  {
   "cell_type": "code",
   "execution_count": 19,
   "id": "8a81d6dc",
   "metadata": {
    "execution": {
     "iopub.execute_input": "2023-12-22T20:47:38.970628Z",
     "iopub.status.busy": "2023-12-22T20:47:38.969227Z",
     "iopub.status.idle": "2023-12-22T20:47:39.672642Z",
     "shell.execute_reply": "2023-12-22T20:47:39.671220Z"
    },
    "papermill": {
     "duration": 0.716007,
     "end_time": "2023-12-22T20:47:39.675529",
     "exception": false,
     "start_time": "2023-12-22T20:47:38.959522",
     "status": "completed"
    },
    "tags": []
   },
   "outputs": [],
   "source": [
    "# Handles missing values in categorical columns\n",
    "data_train_test[categorical_columns] = data_train_test[categorical_columns].fillna('missing')"
   ]
  },
  {
   "cell_type": "code",
   "execution_count": 20,
   "id": "db173764",
   "metadata": {
    "execution": {
     "iopub.execute_input": "2023-12-22T20:47:39.695441Z",
     "iopub.status.busy": "2023-12-22T20:47:39.695055Z",
     "iopub.status.idle": "2023-12-22T20:47:42.610952Z",
     "shell.execute_reply": "2023-12-22T20:47:42.609947Z"
    },
    "papermill": {
     "duration": 2.928173,
     "end_time": "2023-12-22T20:47:42.613243",
     "exception": false,
     "start_time": "2023-12-22T20:47:39.685070",
     "status": "completed"
    },
    "tags": []
   },
   "outputs": [],
   "source": [
    "# Label encoding for categorical columns using the same LabelEncoder\n",
    "le = LabelEncoder()\n",
    "data_train_test[categorical_columns] = data_train_test[categorical_columns].astype(str)\n",
    "data_train_test[categorical_columns] = data_train_test[categorical_columns].apply(lambda col: le.fit_transform(col))"
   ]
  },
  {
   "cell_type": "code",
   "execution_count": 21,
   "id": "aa0ce094",
   "metadata": {
    "execution": {
     "iopub.execute_input": "2023-12-22T20:47:42.632534Z",
     "iopub.status.busy": "2023-12-22T20:47:42.631657Z",
     "iopub.status.idle": "2023-12-22T20:47:42.849042Z",
     "shell.execute_reply": "2023-12-22T20:47:42.848104Z"
    },
    "papermill": {
     "duration": 0.229241,
     "end_time": "2023-12-22T20:47:42.851315",
     "exception": false,
     "start_time": "2023-12-22T20:47:42.622074",
     "status": "completed"
    },
    "tags": []
   },
   "outputs": [],
   "source": [
    "numerical_cols = data_train_test.select_dtypes(include=['float64', 'int64']).columns\n",
    "data_train_test[numerical_cols] = data_train_test[numerical_cols].fillna(0)"
   ]
  },
  {
   "cell_type": "code",
   "execution_count": 22,
   "id": "7120be2c",
   "metadata": {
    "execution": {
     "iopub.execute_input": "2023-12-22T20:47:42.870772Z",
     "iopub.status.busy": "2023-12-22T20:47:42.870421Z",
     "iopub.status.idle": "2023-12-22T20:47:42.892711Z",
     "shell.execute_reply": "2023-12-22T20:47:42.891657Z"
    },
    "papermill": {
     "duration": 0.034325,
     "end_time": "2023-12-22T20:47:42.894658",
     "exception": false,
     "start_time": "2023-12-22T20:47:42.860333",
     "status": "completed"
    },
    "tags": []
   },
   "outputs": [
    {
     "data": {
      "text/html": [
       "<div>\n",
       "<style scoped>\n",
       "    .dataframe tbody tr th:only-of-type {\n",
       "        vertical-align: middle;\n",
       "    }\n",
       "\n",
       "    .dataframe tbody tr th {\n",
       "        vertical-align: top;\n",
       "    }\n",
       "\n",
       "    .dataframe thead th {\n",
       "        text-align: right;\n",
       "    }\n",
       "</style>\n",
       "<table border=\"1\" class=\"dataframe\">\n",
       "  <thead>\n",
       "    <tr style=\"text-align: right;\">\n",
       "      <th></th>\n",
       "      <th>id</th>\n",
       "      <th>item1</th>\n",
       "      <th>item2</th>\n",
       "      <th>item3</th>\n",
       "      <th>item4</th>\n",
       "      <th>item5</th>\n",
       "      <th>item6</th>\n",
       "      <th>item7</th>\n",
       "      <th>item8</th>\n",
       "      <th>item9</th>\n",
       "      <th>...</th>\n",
       "      <th>nbr_of_prod_purchas17</th>\n",
       "      <th>nbr_of_prod_purchas18</th>\n",
       "      <th>nbr_of_prod_purchas19</th>\n",
       "      <th>nbr_of_prod_purchas20</th>\n",
       "      <th>nbr_of_prod_purchas21</th>\n",
       "      <th>nbr_of_prod_purchas22</th>\n",
       "      <th>nbr_of_prod_purchas23</th>\n",
       "      <th>nbr_of_prod_purchas24</th>\n",
       "      <th>nb_of_items</th>\n",
       "      <th>ind</th>\n",
       "    </tr>\n",
       "  </thead>\n",
       "  <tbody>\n",
       "    <tr>\n",
       "      <th>0</th>\n",
       "      <td>64707</td>\n",
       "      <td>63</td>\n",
       "      <td>139</td>\n",
       "      <td>135</td>\n",
       "      <td>127</td>\n",
       "      <td>111</td>\n",
       "      <td>104</td>\n",
       "      <td>100</td>\n",
       "      <td>95</td>\n",
       "      <td>85</td>\n",
       "      <td>...</td>\n",
       "      <td>0.0</td>\n",
       "      <td>0.0</td>\n",
       "      <td>0.0</td>\n",
       "      <td>0.0</td>\n",
       "      <td>0.0</td>\n",
       "      <td>0.0</td>\n",
       "      <td>0.0</td>\n",
       "      <td>0.0</td>\n",
       "      <td>1.0</td>\n",
       "      <td>test</td>\n",
       "    </tr>\n",
       "  </tbody>\n",
       "</table>\n",
       "<p>1 rows × 147 columns</p>\n",
       "</div>"
      ],
      "text/plain": [
       "      id  item1  item2  item3  item4  item5  item6  item7  item8  item9  ...  \\\n",
       "0  64707     63    139    135    127    111    104    100     95     85  ...   \n",
       "\n",
       "   nbr_of_prod_purchas17  nbr_of_prod_purchas18  nbr_of_prod_purchas19  \\\n",
       "0                    0.0                    0.0                    0.0   \n",
       "\n",
       "   nbr_of_prod_purchas20  nbr_of_prod_purchas21  nbr_of_prod_purchas22  \\\n",
       "0                    0.0                    0.0                    0.0   \n",
       "\n",
       "   nbr_of_prod_purchas23  nbr_of_prod_purchas24  nb_of_items   ind  \n",
       "0                    0.0                    0.0          1.0  test  \n",
       "\n",
       "[1 rows x 147 columns]"
      ]
     },
     "execution_count": 22,
     "metadata": {},
     "output_type": "execute_result"
    }
   ],
   "source": [
    "data_train_test.head(1)"
   ]
  },
  {
   "cell_type": "code",
   "execution_count": 23,
   "id": "5522f174",
   "metadata": {
    "execution": {
     "iopub.execute_input": "2023-12-22T20:47:42.914352Z",
     "iopub.status.busy": "2023-12-22T20:47:42.914016Z",
     "iopub.status.idle": "2023-12-22T20:47:43.002021Z",
     "shell.execute_reply": "2023-12-22T20:47:43.000481Z"
    },
    "papermill": {
     "duration": 0.100432,
     "end_time": "2023-12-22T20:47:43.004724",
     "exception": false,
     "start_time": "2023-12-22T20:47:42.904292",
     "status": "completed"
    },
    "tags": []
   },
   "outputs": [],
   "source": [
    "X_test_clean, X_train_clean = data_train_test[data_train_test[\"ind\"].eq(\"test\")], data_train_test[data_train_test[\"ind\"].eq(\"train\")]"
   ]
  },
  {
   "cell_type": "code",
   "execution_count": 24,
   "id": "f18f7f00",
   "metadata": {
    "execution": {
     "iopub.execute_input": "2023-12-22T20:47:43.024101Z",
     "iopub.status.busy": "2023-12-22T20:47:43.023730Z",
     "iopub.status.idle": "2023-12-22T20:47:43.058110Z",
     "shell.execute_reply": "2023-12-22T20:47:43.057431Z"
    },
    "papermill": {
     "duration": 0.046775,
     "end_time": "2023-12-22T20:47:43.060304",
     "exception": false,
     "start_time": "2023-12-22T20:47:43.013529",
     "status": "completed"
    },
    "tags": []
   },
   "outputs": [],
   "source": [
    "X_train_clean=X_train_clean.drop(['ind', 'id'], axis=1)"
   ]
  },
  {
   "cell_type": "code",
   "execution_count": 25,
   "id": "9616f1b1",
   "metadata": {
    "execution": {
     "iopub.execute_input": "2023-12-22T20:47:43.126007Z",
     "iopub.status.busy": "2023-12-22T20:47:43.124832Z",
     "iopub.status.idle": "2023-12-22T20:47:43.145061Z",
     "shell.execute_reply": "2023-12-22T20:47:43.143927Z"
    },
    "papermill": {
     "duration": 0.031731,
     "end_time": "2023-12-22T20:47:43.146743",
     "exception": false,
     "start_time": "2023-12-22T20:47:43.115012",
     "status": "completed"
    },
    "tags": []
   },
   "outputs": [
    {
     "data": {
      "text/html": [
       "<div>\n",
       "<style scoped>\n",
       "    .dataframe tbody tr th:only-of-type {\n",
       "        vertical-align: middle;\n",
       "    }\n",
       "\n",
       "    .dataframe tbody tr th {\n",
       "        vertical-align: top;\n",
       "    }\n",
       "\n",
       "    .dataframe thead th {\n",
       "        text-align: right;\n",
       "    }\n",
       "</style>\n",
       "<table border=\"1\" class=\"dataframe\">\n",
       "  <thead>\n",
       "    <tr style=\"text-align: right;\">\n",
       "      <th></th>\n",
       "      <th>item1</th>\n",
       "      <th>item2</th>\n",
       "      <th>item3</th>\n",
       "      <th>item4</th>\n",
       "      <th>item5</th>\n",
       "      <th>item6</th>\n",
       "      <th>item7</th>\n",
       "      <th>item8</th>\n",
       "      <th>item9</th>\n",
       "      <th>item10</th>\n",
       "      <th>...</th>\n",
       "      <th>nbr_of_prod_purchas16</th>\n",
       "      <th>nbr_of_prod_purchas17</th>\n",
       "      <th>nbr_of_prod_purchas18</th>\n",
       "      <th>nbr_of_prod_purchas19</th>\n",
       "      <th>nbr_of_prod_purchas20</th>\n",
       "      <th>nbr_of_prod_purchas21</th>\n",
       "      <th>nbr_of_prod_purchas22</th>\n",
       "      <th>nbr_of_prod_purchas23</th>\n",
       "      <th>nbr_of_prod_purchas24</th>\n",
       "      <th>nb_of_items</th>\n",
       "    </tr>\n",
       "  </thead>\n",
       "  <tbody>\n",
       "    <tr>\n",
       "      <th>0</th>\n",
       "      <td>38</td>\n",
       "      <td>139</td>\n",
       "      <td>135</td>\n",
       "      <td>127</td>\n",
       "      <td>111</td>\n",
       "      <td>104</td>\n",
       "      <td>100</td>\n",
       "      <td>95</td>\n",
       "      <td>85</td>\n",
       "      <td>79</td>\n",
       "      <td>...</td>\n",
       "      <td>0.0</td>\n",
       "      <td>0.0</td>\n",
       "      <td>0.0</td>\n",
       "      <td>0.0</td>\n",
       "      <td>0.0</td>\n",
       "      <td>0.0</td>\n",
       "      <td>0.0</td>\n",
       "      <td>0.0</td>\n",
       "      <td>0.0</td>\n",
       "      <td>1.0</td>\n",
       "    </tr>\n",
       "  </tbody>\n",
       "</table>\n",
       "<p>1 rows × 145 columns</p>\n",
       "</div>"
      ],
      "text/plain": [
       "   item1  item2  item3  item4  item5  item6  item7  item8  item9  item10  ...  \\\n",
       "0     38    139    135    127    111    104    100     95     85      79  ...   \n",
       "\n",
       "   nbr_of_prod_purchas16  nbr_of_prod_purchas17  nbr_of_prod_purchas18  \\\n",
       "0                    0.0                    0.0                    0.0   \n",
       "\n",
       "   nbr_of_prod_purchas19  nbr_of_prod_purchas20  nbr_of_prod_purchas21  \\\n",
       "0                    0.0                    0.0                    0.0   \n",
       "\n",
       "   nbr_of_prod_purchas22  nbr_of_prod_purchas23  nbr_of_prod_purchas24  \\\n",
       "0                    0.0                    0.0                    0.0   \n",
       "\n",
       "   nb_of_items  \n",
       "0          1.0  \n",
       "\n",
       "[1 rows x 145 columns]"
      ]
     },
     "execution_count": 25,
     "metadata": {},
     "output_type": "execute_result"
    }
   ],
   "source": [
    "X_train_clean.head(1)"
   ]
  },
  {
   "cell_type": "code",
   "execution_count": 26,
   "id": "42984206",
   "metadata": {
    "execution": {
     "iopub.execute_input": "2023-12-22T20:47:43.166512Z",
     "iopub.status.busy": "2023-12-22T20:47:43.165998Z",
     "iopub.status.idle": "2023-12-22T20:47:43.179976Z",
     "shell.execute_reply": "2023-12-22T20:47:43.179255Z"
    },
    "papermill": {
     "duration": 0.026275,
     "end_time": "2023-12-22T20:47:43.181882",
     "exception": false,
     "start_time": "2023-12-22T20:47:43.155607",
     "status": "completed"
    },
    "tags": []
   },
   "outputs": [],
   "source": [
    "X_test_clean=X_test_clean.drop(['ind', 'id'], axis=1)"
   ]
  },
  {
   "cell_type": "code",
   "execution_count": 27,
   "id": "bd58a1ba",
   "metadata": {
    "execution": {
     "iopub.execute_input": "2023-12-22T20:47:43.201326Z",
     "iopub.status.busy": "2023-12-22T20:47:43.200955Z",
     "iopub.status.idle": "2023-12-22T20:47:43.355611Z",
     "shell.execute_reply": "2023-12-22T20:47:43.354939Z"
    },
    "papermill": {
     "duration": 0.167047,
     "end_time": "2023-12-22T20:47:43.358016",
     "exception": false,
     "start_time": "2023-12-22T20:47:43.190969",
     "status": "completed"
    },
    "tags": []
   },
   "outputs": [],
   "source": [
    "# Split the data into train and test sets\n",
    "X_train_encoded, X_test_encoded, y_train, y_test = train_test_split(X_train_clean, Y_train[\"fraud_flag\"], test_size=0.2, random_state=42)"
   ]
  },
  {
   "cell_type": "code",
   "execution_count": 28,
   "id": "3cc6421d",
   "metadata": {
    "execution": {
     "iopub.execute_input": "2023-12-22T20:47:43.377301Z",
     "iopub.status.busy": "2023-12-22T20:47:43.376952Z",
     "iopub.status.idle": "2023-12-22T20:47:43.883498Z",
     "shell.execute_reply": "2023-12-22T20:47:43.881577Z"
    },
    "papermill": {
     "duration": 0.519245,
     "end_time": "2023-12-22T20:47:43.886334",
     "exception": false,
     "start_time": "2023-12-22T20:47:43.367089",
     "status": "completed"
    },
    "tags": []
   },
   "outputs": [],
   "source": [
    "# Apply SMOTE for balancing\n",
    "smt = SMOTE()\n",
    "X_train_sm, y_train_sm = smt.fit_resample(X_train_encoded, y_train)"
   ]
  },
  {
   "cell_type": "code",
   "execution_count": 29,
   "id": "e8ea5725",
   "metadata": {
    "execution": {
     "iopub.execute_input": "2023-12-22T20:47:43.908172Z",
     "iopub.status.busy": "2023-12-22T20:47:43.907136Z",
     "iopub.status.idle": "2023-12-22T20:48:08.580989Z",
     "shell.execute_reply": "2023-12-22T20:48:08.579536Z"
    },
    "papermill": {
     "duration": 24.687396,
     "end_time": "2023-12-22T20:48:08.583538",
     "exception": false,
     "start_time": "2023-12-22T20:47:43.896142",
     "status": "completed"
    },
    "tags": []
   },
   "outputs": [
    {
     "data": {
      "text/html": [
       "<style>#sk-container-id-1 {\n",
       "  /* Definition of color scheme common for light and dark mode */\n",
       "  --sklearn-color-text: #000;\n",
       "  --sklearn-color-text-muted: #666;\n",
       "  --sklearn-color-line: gray;\n",
       "  /* Definition of color scheme for unfitted estimators */\n",
       "  --sklearn-color-unfitted-level-0: #fff5e6;\n",
       "  --sklearn-color-unfitted-level-1: #f6e4d2;\n",
       "  --sklearn-color-unfitted-level-2: #ffe0b3;\n",
       "  --sklearn-color-unfitted-level-3: chocolate;\n",
       "  /* Definition of color scheme for fitted estimators */\n",
       "  --sklearn-color-fitted-level-0: #f0f8ff;\n",
       "  --sklearn-color-fitted-level-1: #d4ebff;\n",
       "  --sklearn-color-fitted-level-2: #b3dbfd;\n",
       "  --sklearn-color-fitted-level-3: cornflowerblue;\n",
       "\n",
       "  /* Specific color for light theme */\n",
       "  --sklearn-color-text-on-default-background: var(--sg-text-color, var(--theme-code-foreground, var(--jp-content-font-color1, black)));\n",
       "  --sklearn-color-background: var(--sg-background-color, var(--theme-background, var(--jp-layout-color0, white)));\n",
       "  --sklearn-color-border-box: var(--sg-text-color, var(--theme-code-foreground, var(--jp-content-font-color1, black)));\n",
       "  --sklearn-color-icon: #696969;\n",
       "\n",
       "  @media (prefers-color-scheme: dark) {\n",
       "    /* Redefinition of color scheme for dark theme */\n",
       "    --sklearn-color-text-on-default-background: var(--sg-text-color, var(--theme-code-foreground, var(--jp-content-font-color1, white)));\n",
       "    --sklearn-color-background: var(--sg-background-color, var(--theme-background, var(--jp-layout-color0, #111)));\n",
       "    --sklearn-color-border-box: var(--sg-text-color, var(--theme-code-foreground, var(--jp-content-font-color1, white)));\n",
       "    --sklearn-color-icon: #878787;\n",
       "  }\n",
       "}\n",
       "\n",
       "#sk-container-id-1 {\n",
       "  color: var(--sklearn-color-text);\n",
       "}\n",
       "\n",
       "#sk-container-id-1 pre {\n",
       "  padding: 0;\n",
       "}\n",
       "\n",
       "#sk-container-id-1 input.sk-hidden--visually {\n",
       "  border: 0;\n",
       "  clip: rect(1px 1px 1px 1px);\n",
       "  clip: rect(1px, 1px, 1px, 1px);\n",
       "  height: 1px;\n",
       "  margin: -1px;\n",
       "  overflow: hidden;\n",
       "  padding: 0;\n",
       "  position: absolute;\n",
       "  width: 1px;\n",
       "}\n",
       "\n",
       "#sk-container-id-1 div.sk-dashed-wrapped {\n",
       "  border: 1px dashed var(--sklearn-color-line);\n",
       "  margin: 0 0.4em 0.5em 0.4em;\n",
       "  box-sizing: border-box;\n",
       "  padding-bottom: 0.4em;\n",
       "  background-color: var(--sklearn-color-background);\n",
       "}\n",
       "\n",
       "#sk-container-id-1 div.sk-container {\n",
       "  /* jupyter's `normalize.less` sets `[hidden] { display: none; }`\n",
       "     but bootstrap.min.css set `[hidden] { display: none !important; }`\n",
       "     so we also need the `!important` here to be able to override the\n",
       "     default hidden behavior on the sphinx rendered scikit-learn.org.\n",
       "     See: https://github.com/scikit-learn/scikit-learn/issues/21755 */\n",
       "  display: inline-block !important;\n",
       "  position: relative;\n",
       "}\n",
       "\n",
       "#sk-container-id-1 div.sk-text-repr-fallback {\n",
       "  display: none;\n",
       "}\n",
       "\n",
       "div.sk-parallel-item,\n",
       "div.sk-serial,\n",
       "div.sk-item {\n",
       "  /* draw centered vertical line to link estimators */\n",
       "  background-image: linear-gradient(var(--sklearn-color-text-on-default-background), var(--sklearn-color-text-on-default-background));\n",
       "  background-size: 2px 100%;\n",
       "  background-repeat: no-repeat;\n",
       "  background-position: center center;\n",
       "}\n",
       "\n",
       "/* Parallel-specific style estimator block */\n",
       "\n",
       "#sk-container-id-1 div.sk-parallel-item::after {\n",
       "  content: \"\";\n",
       "  width: 100%;\n",
       "  border-bottom: 2px solid var(--sklearn-color-text-on-default-background);\n",
       "  flex-grow: 1;\n",
       "}\n",
       "\n",
       "#sk-container-id-1 div.sk-parallel {\n",
       "  display: flex;\n",
       "  align-items: stretch;\n",
       "  justify-content: center;\n",
       "  background-color: var(--sklearn-color-background);\n",
       "  position: relative;\n",
       "}\n",
       "\n",
       "#sk-container-id-1 div.sk-parallel-item {\n",
       "  display: flex;\n",
       "  flex-direction: column;\n",
       "}\n",
       "\n",
       "#sk-container-id-1 div.sk-parallel-item:first-child::after {\n",
       "  align-self: flex-end;\n",
       "  width: 50%;\n",
       "}\n",
       "\n",
       "#sk-container-id-1 div.sk-parallel-item:last-child::after {\n",
       "  align-self: flex-start;\n",
       "  width: 50%;\n",
       "}\n",
       "\n",
       "#sk-container-id-1 div.sk-parallel-item:only-child::after {\n",
       "  width: 0;\n",
       "}\n",
       "\n",
       "/* Serial-specific style estimator block */\n",
       "\n",
       "#sk-container-id-1 div.sk-serial {\n",
       "  display: flex;\n",
       "  flex-direction: column;\n",
       "  align-items: center;\n",
       "  background-color: var(--sklearn-color-background);\n",
       "  padding-right: 1em;\n",
       "  padding-left: 1em;\n",
       "}\n",
       "\n",
       "\n",
       "/* Toggleable style: style used for estimator/Pipeline/ColumnTransformer box that is\n",
       "clickable and can be expanded/collapsed.\n",
       "- Pipeline and ColumnTransformer use this feature and define the default style\n",
       "- Estimators will overwrite some part of the style using the `sk-estimator` class\n",
       "*/\n",
       "\n",
       "/* Pipeline and ColumnTransformer style (default) */\n",
       "\n",
       "#sk-container-id-1 div.sk-toggleable {\n",
       "  /* Default theme specific background. It is overwritten whether we have a\n",
       "  specific estimator or a Pipeline/ColumnTransformer */\n",
       "  background-color: var(--sklearn-color-background);\n",
       "}\n",
       "\n",
       "/* Toggleable label */\n",
       "#sk-container-id-1 label.sk-toggleable__label {\n",
       "  cursor: pointer;\n",
       "  display: flex;\n",
       "  width: 100%;\n",
       "  margin-bottom: 0;\n",
       "  padding: 0.5em;\n",
       "  box-sizing: border-box;\n",
       "  text-align: center;\n",
       "  align-items: start;\n",
       "  justify-content: space-between;\n",
       "  gap: 0.5em;\n",
       "}\n",
       "\n",
       "#sk-container-id-1 label.sk-toggleable__label .caption {\n",
       "  font-size: 0.6rem;\n",
       "  font-weight: lighter;\n",
       "  color: var(--sklearn-color-text-muted);\n",
       "}\n",
       "\n",
       "#sk-container-id-1 label.sk-toggleable__label-arrow:before {\n",
       "  /* Arrow on the left of the label */\n",
       "  content: \"▸\";\n",
       "  float: left;\n",
       "  margin-right: 0.25em;\n",
       "  color: var(--sklearn-color-icon);\n",
       "}\n",
       "\n",
       "#sk-container-id-1 label.sk-toggleable__label-arrow:hover:before {\n",
       "  color: var(--sklearn-color-text);\n",
       "}\n",
       "\n",
       "/* Toggleable content - dropdown */\n",
       "\n",
       "#sk-container-id-1 div.sk-toggleable__content {\n",
       "  max-height: 0;\n",
       "  max-width: 0;\n",
       "  overflow: hidden;\n",
       "  text-align: left;\n",
       "  /* unfitted */\n",
       "  background-color: var(--sklearn-color-unfitted-level-0);\n",
       "}\n",
       "\n",
       "#sk-container-id-1 div.sk-toggleable__content.fitted {\n",
       "  /* fitted */\n",
       "  background-color: var(--sklearn-color-fitted-level-0);\n",
       "}\n",
       "\n",
       "#sk-container-id-1 div.sk-toggleable__content pre {\n",
       "  margin: 0.2em;\n",
       "  border-radius: 0.25em;\n",
       "  color: var(--sklearn-color-text);\n",
       "  /* unfitted */\n",
       "  background-color: var(--sklearn-color-unfitted-level-0);\n",
       "}\n",
       "\n",
       "#sk-container-id-1 div.sk-toggleable__content.fitted pre {\n",
       "  /* unfitted */\n",
       "  background-color: var(--sklearn-color-fitted-level-0);\n",
       "}\n",
       "\n",
       "#sk-container-id-1 input.sk-toggleable__control:checked~div.sk-toggleable__content {\n",
       "  /* Expand drop-down */\n",
       "  max-height: 200px;\n",
       "  max-width: 100%;\n",
       "  overflow: auto;\n",
       "}\n",
       "\n",
       "#sk-container-id-1 input.sk-toggleable__control:checked~label.sk-toggleable__label-arrow:before {\n",
       "  content: \"▾\";\n",
       "}\n",
       "\n",
       "/* Pipeline/ColumnTransformer-specific style */\n",
       "\n",
       "#sk-container-id-1 div.sk-label input.sk-toggleable__control:checked~label.sk-toggleable__label {\n",
       "  color: var(--sklearn-color-text);\n",
       "  background-color: var(--sklearn-color-unfitted-level-2);\n",
       "}\n",
       "\n",
       "#sk-container-id-1 div.sk-label.fitted input.sk-toggleable__control:checked~label.sk-toggleable__label {\n",
       "  background-color: var(--sklearn-color-fitted-level-2);\n",
       "}\n",
       "\n",
       "/* Estimator-specific style */\n",
       "\n",
       "/* Colorize estimator box */\n",
       "#sk-container-id-1 div.sk-estimator input.sk-toggleable__control:checked~label.sk-toggleable__label {\n",
       "  /* unfitted */\n",
       "  background-color: var(--sklearn-color-unfitted-level-2);\n",
       "}\n",
       "\n",
       "#sk-container-id-1 div.sk-estimator.fitted input.sk-toggleable__control:checked~label.sk-toggleable__label {\n",
       "  /* fitted */\n",
       "  background-color: var(--sklearn-color-fitted-level-2);\n",
       "}\n",
       "\n",
       "#sk-container-id-1 div.sk-label label.sk-toggleable__label,\n",
       "#sk-container-id-1 div.sk-label label {\n",
       "  /* The background is the default theme color */\n",
       "  color: var(--sklearn-color-text-on-default-background);\n",
       "}\n",
       "\n",
       "/* On hover, darken the color of the background */\n",
       "#sk-container-id-1 div.sk-label:hover label.sk-toggleable__label {\n",
       "  color: var(--sklearn-color-text);\n",
       "  background-color: var(--sklearn-color-unfitted-level-2);\n",
       "}\n",
       "\n",
       "/* Label box, darken color on hover, fitted */\n",
       "#sk-container-id-1 div.sk-label.fitted:hover label.sk-toggleable__label.fitted {\n",
       "  color: var(--sklearn-color-text);\n",
       "  background-color: var(--sklearn-color-fitted-level-2);\n",
       "}\n",
       "\n",
       "/* Estimator label */\n",
       "\n",
       "#sk-container-id-1 div.sk-label label {\n",
       "  font-family: monospace;\n",
       "  font-weight: bold;\n",
       "  display: inline-block;\n",
       "  line-height: 1.2em;\n",
       "}\n",
       "\n",
       "#sk-container-id-1 div.sk-label-container {\n",
       "  text-align: center;\n",
       "}\n",
       "\n",
       "/* Estimator-specific */\n",
       "#sk-container-id-1 div.sk-estimator {\n",
       "  font-family: monospace;\n",
       "  border: 1px dotted var(--sklearn-color-border-box);\n",
       "  border-radius: 0.25em;\n",
       "  box-sizing: border-box;\n",
       "  margin-bottom: 0.5em;\n",
       "  /* unfitted */\n",
       "  background-color: var(--sklearn-color-unfitted-level-0);\n",
       "}\n",
       "\n",
       "#sk-container-id-1 div.sk-estimator.fitted {\n",
       "  /* fitted */\n",
       "  background-color: var(--sklearn-color-fitted-level-0);\n",
       "}\n",
       "\n",
       "/* on hover */\n",
       "#sk-container-id-1 div.sk-estimator:hover {\n",
       "  /* unfitted */\n",
       "  background-color: var(--sklearn-color-unfitted-level-2);\n",
       "}\n",
       "\n",
       "#sk-container-id-1 div.sk-estimator.fitted:hover {\n",
       "  /* fitted */\n",
       "  background-color: var(--sklearn-color-fitted-level-2);\n",
       "}\n",
       "\n",
       "/* Specification for estimator info (e.g. \"i\" and \"?\") */\n",
       "\n",
       "/* Common style for \"i\" and \"?\" */\n",
       "\n",
       ".sk-estimator-doc-link,\n",
       "a:link.sk-estimator-doc-link,\n",
       "a:visited.sk-estimator-doc-link {\n",
       "  float: right;\n",
       "  font-size: smaller;\n",
       "  line-height: 1em;\n",
       "  font-family: monospace;\n",
       "  background-color: var(--sklearn-color-background);\n",
       "  border-radius: 1em;\n",
       "  height: 1em;\n",
       "  width: 1em;\n",
       "  text-decoration: none !important;\n",
       "  margin-left: 0.5em;\n",
       "  text-align: center;\n",
       "  /* unfitted */\n",
       "  border: var(--sklearn-color-unfitted-level-1) 1pt solid;\n",
       "  color: var(--sklearn-color-unfitted-level-1);\n",
       "}\n",
       "\n",
       ".sk-estimator-doc-link.fitted,\n",
       "a:link.sk-estimator-doc-link.fitted,\n",
       "a:visited.sk-estimator-doc-link.fitted {\n",
       "  /* fitted */\n",
       "  border: var(--sklearn-color-fitted-level-1) 1pt solid;\n",
       "  color: var(--sklearn-color-fitted-level-1);\n",
       "}\n",
       "\n",
       "/* On hover */\n",
       "div.sk-estimator:hover .sk-estimator-doc-link:hover,\n",
       ".sk-estimator-doc-link:hover,\n",
       "div.sk-label-container:hover .sk-estimator-doc-link:hover,\n",
       ".sk-estimator-doc-link:hover {\n",
       "  /* unfitted */\n",
       "  background-color: var(--sklearn-color-unfitted-level-3);\n",
       "  color: var(--sklearn-color-background);\n",
       "  text-decoration: none;\n",
       "}\n",
       "\n",
       "div.sk-estimator.fitted:hover .sk-estimator-doc-link.fitted:hover,\n",
       ".sk-estimator-doc-link.fitted:hover,\n",
       "div.sk-label-container:hover .sk-estimator-doc-link.fitted:hover,\n",
       ".sk-estimator-doc-link.fitted:hover {\n",
       "  /* fitted */\n",
       "  background-color: var(--sklearn-color-fitted-level-3);\n",
       "  color: var(--sklearn-color-background);\n",
       "  text-decoration: none;\n",
       "}\n",
       "\n",
       "/* Span, style for the box shown on hovering the info icon */\n",
       ".sk-estimator-doc-link span {\n",
       "  display: none;\n",
       "  z-index: 9999;\n",
       "  position: relative;\n",
       "  font-weight: normal;\n",
       "  right: .2ex;\n",
       "  padding: .5ex;\n",
       "  margin: .5ex;\n",
       "  width: min-content;\n",
       "  min-width: 20ex;\n",
       "  max-width: 50ex;\n",
       "  color: var(--sklearn-color-text);\n",
       "  box-shadow: 2pt 2pt 4pt #999;\n",
       "  /* unfitted */\n",
       "  background: var(--sklearn-color-unfitted-level-0);\n",
       "  border: .5pt solid var(--sklearn-color-unfitted-level-3);\n",
       "}\n",
       "\n",
       ".sk-estimator-doc-link.fitted span {\n",
       "  /* fitted */\n",
       "  background: var(--sklearn-color-fitted-level-0);\n",
       "  border: var(--sklearn-color-fitted-level-3);\n",
       "}\n",
       "\n",
       ".sk-estimator-doc-link:hover span {\n",
       "  display: block;\n",
       "}\n",
       "\n",
       "/* \"?\"-specific style due to the `<a>` HTML tag */\n",
       "\n",
       "#sk-container-id-1 a.estimator_doc_link {\n",
       "  float: right;\n",
       "  font-size: 1rem;\n",
       "  line-height: 1em;\n",
       "  font-family: monospace;\n",
       "  background-color: var(--sklearn-color-background);\n",
       "  border-radius: 1rem;\n",
       "  height: 1rem;\n",
       "  width: 1rem;\n",
       "  text-decoration: none;\n",
       "  /* unfitted */\n",
       "  color: var(--sklearn-color-unfitted-level-1);\n",
       "  border: var(--sklearn-color-unfitted-level-1) 1pt solid;\n",
       "}\n",
       "\n",
       "#sk-container-id-1 a.estimator_doc_link.fitted {\n",
       "  /* fitted */\n",
       "  border: var(--sklearn-color-fitted-level-1) 1pt solid;\n",
       "  color: var(--sklearn-color-fitted-level-1);\n",
       "}\n",
       "\n",
       "/* On hover */\n",
       "#sk-container-id-1 a.estimator_doc_link:hover {\n",
       "  /* unfitted */\n",
       "  background-color: var(--sklearn-color-unfitted-level-3);\n",
       "  color: var(--sklearn-color-background);\n",
       "  text-decoration: none;\n",
       "}\n",
       "\n",
       "#sk-container-id-1 a.estimator_doc_link.fitted:hover {\n",
       "  /* fitted */\n",
       "  background-color: var(--sklearn-color-fitted-level-3);\n",
       "}\n",
       "</style><div id=\"sk-container-id-1\" class=\"sk-top-container\"><div class=\"sk-text-repr-fallback\"><pre>RandomForestClassifier(random_state=42)</pre><b>In a Jupyter environment, please rerun this cell to show the HTML representation or trust the notebook. <br />On GitHub, the HTML representation is unable to render, please try loading this page with nbviewer.org.</b></div><div class=\"sk-container\" hidden><div class=\"sk-item\"><div class=\"sk-estimator fitted sk-toggleable\"><input class=\"sk-toggleable__control sk-hidden--visually\" id=\"sk-estimator-id-1\" type=\"checkbox\" checked><label for=\"sk-estimator-id-1\" class=\"sk-toggleable__label fitted sk-toggleable__label-arrow\"><div><div>RandomForestClassifier</div></div><div><a class=\"sk-estimator-doc-link fitted\" rel=\"noreferrer\" target=\"_blank\" href=\"https://scikit-learn.org/1.6/modules/generated/sklearn.ensemble.RandomForestClassifier.html\">?<span>Documentation for RandomForestClassifier</span></a><span class=\"sk-estimator-doc-link fitted\">i<span>Fitted</span></span></div></label><div class=\"sk-toggleable__content fitted\"><pre>RandomForestClassifier(random_state=42)</pre></div> </div></div></div></div>"
      ],
      "text/plain": [
       "RandomForestClassifier(random_state=42)"
      ]
     },
     "execution_count": 29,
     "metadata": {},
     "output_type": "execute_result"
    }
   ],
   "source": [
    "# Train RandomForestClassifier\n",
    "clf = RandomForestClassifier(random_state=42)\n",
    "clf.fit(X_train_sm, y_train_sm)"
   ]
  },
  {
   "cell_type": "code",
   "execution_count": null,
   "id": "eb664fb9",
   "metadata": {},
   "outputs": [],
   "source": []
  },
  {
   "cell_type": "code",
   "execution_count": 30,
   "id": "2a41c9ce",
   "metadata": {
    "execution": {
     "iopub.execute_input": "2023-12-22T20:48:08.607372Z",
     "iopub.status.busy": "2023-12-22T20:48:08.606868Z",
     "iopub.status.idle": "2023-12-22T20:48:08.964478Z",
     "shell.execute_reply": "2023-12-22T20:48:08.962989Z"
    },
    "papermill": {
     "duration": 0.374057,
     "end_time": "2023-12-22T20:48:08.966918",
     "exception": false,
     "start_time": "2023-12-22T20:48:08.592861",
     "status": "completed"
    },
    "tags": []
   },
   "outputs": [],
   "source": [
    "# Predict probabilities on the test set\n",
    "y_pred_prob = clf.predict_proba(X_test_encoded)[:, 1]"
   ]
  },
  {
   "cell_type": "code",
   "execution_count": 31,
   "id": "058511c0",
   "metadata": {
    "execution": {
     "iopub.execute_input": "2023-12-22T20:48:08.987350Z",
     "iopub.status.busy": "2023-12-22T20:48:08.986876Z",
     "iopub.status.idle": "2023-12-22T20:48:09.001357Z",
     "shell.execute_reply": "2023-12-22T20:48:08.999073Z"
    },
    "papermill": {
     "duration": 0.028992,
     "end_time": "2023-12-22T20:48:09.005069",
     "exception": false,
     "start_time": "2023-12-22T20:48:08.976077",
     "status": "completed"
    },
    "tags": []
   },
   "outputs": [
    {
     "name": "stdout",
     "output_type": "stream",
     "text": [
      "Average Precision Score: 0.13945575434505866\n"
     ]
    }
   ],
   "source": [
    "# Evaluate model performance\n",
    "average_score = average_precision_score(y_test, y_pred_prob)\n",
    "print(\"Average Precision Score:\", average_score)"
   ]
  },
  {
   "cell_type": "code",
   "execution_count": 32,
   "id": "6ee0ee5e",
   "metadata": {
    "execution": {
     "iopub.execute_input": "2023-12-22T20:48:09.026506Z",
     "iopub.status.busy": "2023-12-22T20:48:09.026084Z",
     "iopub.status.idle": "2023-12-22T20:48:09.415052Z",
     "shell.execute_reply": "2023-12-22T20:48:09.413939Z"
    },
    "papermill": {
     "duration": 0.402556,
     "end_time": "2023-12-22T20:48:09.417821",
     "exception": false,
     "start_time": "2023-12-22T20:48:09.015265",
     "status": "completed"
    },
    "tags": []
   },
   "outputs": [],
   "source": [
    "# Predict probabilities on the actual test set\n",
    "y_pred_final = clf.predict_proba(X_test_clean)[:, 1]"
   ]
  },
  {
   "cell_type": "code",
   "execution_count": 33,
   "id": "9692e601",
   "metadata": {
    "execution": {
     "iopub.execute_input": "2023-12-22T20:48:09.438877Z",
     "iopub.status.busy": "2023-12-22T20:48:09.438514Z",
     "iopub.status.idle": "2023-12-22T20:48:09.445114Z",
     "shell.execute_reply": "2023-12-22T20:48:09.444127Z"
    },
    "papermill": {
     "duration": 0.019443,
     "end_time": "2023-12-22T20:48:09.446963",
     "exception": false,
     "start_time": "2023-12-22T20:48:09.427520",
     "status": "completed"
    },
    "tags": []
   },
   "outputs": [
    {
     "data": {
      "text/plain": [
       "array([0.        , 0.        , 0.        , ..., 0.67388955, 0.        ,\n",
       "       0.13091162], shape=(23198,))"
      ]
     },
     "execution_count": 33,
     "metadata": {},
     "output_type": "execute_result"
    }
   ],
   "source": [
    "y_pred_final"
   ]
  },
  {
   "cell_type": "code",
   "execution_count": 34,
   "id": "f4c9a5ce",
   "metadata": {
    "execution": {
     "iopub.execute_input": "2023-12-22T20:48:09.468327Z",
     "iopub.status.busy": "2023-12-22T20:48:09.467974Z",
     "iopub.status.idle": "2023-12-22T20:48:09.473933Z",
     "shell.execute_reply": "2023-12-22T20:48:09.472558Z"
    },
    "papermill": {
     "duration": 0.018884,
     "end_time": "2023-12-22T20:48:09.475871",
     "exception": false,
     "start_time": "2023-12-22T20:48:09.456987",
     "status": "completed"
    },
    "tags": []
   },
   "outputs": [],
   "source": [
    "final_result=pd.concat([X_test['id'],pd.Series(y_pred_final)], axis=1)"
   ]
  },
  {
   "cell_type": "code",
   "execution_count": 35,
   "id": "767e0bc7",
   "metadata": {
    "execution": {
     "iopub.execute_input": "2023-12-22T20:48:09.497884Z",
     "iopub.status.busy": "2023-12-22T20:48:09.497338Z",
     "iopub.status.idle": "2023-12-22T20:48:09.503978Z",
     "shell.execute_reply": "2023-12-22T20:48:09.502846Z"
    },
    "papermill": {
     "duration": 0.020498,
     "end_time": "2023-12-22T20:48:09.506055",
     "exception": false,
     "start_time": "2023-12-22T20:48:09.485557",
     "status": "completed"
    },
    "tags": []
   },
   "outputs": [],
   "source": [
    "# Remaing the id column\n",
    "final_result.rename(columns={'id': 'ID'}, inplace=True)"
   ]
  },
  {
   "cell_type": "code",
   "execution_count": 36,
   "id": "f3139b44",
   "metadata": {
    "execution": {
     "iopub.execute_input": "2023-12-22T20:48:09.528534Z",
     "iopub.status.busy": "2023-12-22T20:48:09.528102Z",
     "iopub.status.idle": "2023-12-22T20:48:09.539099Z",
     "shell.execute_reply": "2023-12-22T20:48:09.538322Z"
    },
    "jupyter": {
     "source_hidden": true
    },
    "papermill": {
     "duration": 0.024611,
     "end_time": "2023-12-22T20:48:09.541223",
     "exception": false,
     "start_time": "2023-12-22T20:48:09.516612",
     "status": "completed"
    },
    "tags": []
   },
   "outputs": [
    {
     "data": {
      "text/html": [
       "<div>\n",
       "<style scoped>\n",
       "    .dataframe tbody tr th:only-of-type {\n",
       "        vertical-align: middle;\n",
       "    }\n",
       "\n",
       "    .dataframe tbody tr th {\n",
       "        vertical-align: top;\n",
       "    }\n",
       "\n",
       "    .dataframe thead th {\n",
       "        text-align: right;\n",
       "    }\n",
       "</style>\n",
       "<table border=\"1\" class=\"dataframe\">\n",
       "  <thead>\n",
       "    <tr style=\"text-align: right;\">\n",
       "      <th></th>\n",
       "      <th>ID</th>\n",
       "      <th>0</th>\n",
       "    </tr>\n",
       "  </thead>\n",
       "  <tbody>\n",
       "    <tr>\n",
       "      <th>0</th>\n",
       "      <td>64707</td>\n",
       "      <td>0.000000</td>\n",
       "    </tr>\n",
       "    <tr>\n",
       "      <th>1</th>\n",
       "      <td>63919</td>\n",
       "      <td>0.000000</td>\n",
       "    </tr>\n",
       "    <tr>\n",
       "      <th>2</th>\n",
       "      <td>15664</td>\n",
       "      <td>0.000000</td>\n",
       "    </tr>\n",
       "    <tr>\n",
       "      <th>3</th>\n",
       "      <td>6626</td>\n",
       "      <td>0.000000</td>\n",
       "    </tr>\n",
       "    <tr>\n",
       "      <th>4</th>\n",
       "      <td>26766</td>\n",
       "      <td>0.000000</td>\n",
       "    </tr>\n",
       "    <tr>\n",
       "      <th>...</th>\n",
       "      <td>...</td>\n",
       "      <td>...</td>\n",
       "    </tr>\n",
       "    <tr>\n",
       "      <th>23193</th>\n",
       "      <td>63474</td>\n",
       "      <td>0.000000</td>\n",
       "    </tr>\n",
       "    <tr>\n",
       "      <th>23194</th>\n",
       "      <td>80438</td>\n",
       "      <td>0.000000</td>\n",
       "    </tr>\n",
       "    <tr>\n",
       "      <th>23195</th>\n",
       "      <td>29485</td>\n",
       "      <td>0.673890</td>\n",
       "    </tr>\n",
       "    <tr>\n",
       "      <th>23196</th>\n",
       "      <td>59838</td>\n",
       "      <td>0.000000</td>\n",
       "    </tr>\n",
       "    <tr>\n",
       "      <th>23197</th>\n",
       "      <td>110584</td>\n",
       "      <td>0.130912</td>\n",
       "    </tr>\n",
       "  </tbody>\n",
       "</table>\n",
       "<p>23198 rows × 2 columns</p>\n",
       "</div>"
      ],
      "text/plain": [
       "           ID         0\n",
       "0       64707  0.000000\n",
       "1       63919  0.000000\n",
       "2       15664  0.000000\n",
       "3        6626  0.000000\n",
       "4       26766  0.000000\n",
       "...       ...       ...\n",
       "23193   63474  0.000000\n",
       "23194   80438  0.000000\n",
       "23195   29485  0.673890\n",
       "23196   59838  0.000000\n",
       "23197  110584  0.130912\n",
       "\n",
       "[23198 rows x 2 columns]"
      ]
     },
     "execution_count": 36,
     "metadata": {},
     "output_type": "execute_result"
    }
   ],
   "source": [
    "final_result"
   ]
  },
  {
   "cell_type": "code",
   "execution_count": 37,
   "id": "aea0c07f",
   "metadata": {
    "execution": {
     "iopub.execute_input": "2023-12-22T20:48:09.562767Z",
     "iopub.status.busy": "2023-12-22T20:48:09.562280Z",
     "iopub.status.idle": "2023-12-22T20:48:09.609095Z",
     "shell.execute_reply": "2023-12-22T20:48:09.607267Z"
    },
    "papermill": {
     "duration": 0.060659,
     "end_time": "2023-12-22T20:48:09.611706",
     "exception": false,
     "start_time": "2023-12-22T20:48:09.551047",
     "status": "completed"
    },
    "tags": []
   },
   "outputs": [],
   "source": [
    "# Save the final result in the submission folder\n",
    "final_result.to_csv('../submissions/final_result.csv', index=True)\n"
   ]
  },
  {
   "cell_type": "code",
   "execution_count": null,
   "id": "566e50f3",
   "metadata": {
    "papermill": {
     "duration": 0.009007,
     "end_time": "2023-12-22T20:48:09.630724",
     "exception": false,
     "start_time": "2023-12-22T20:48:09.621717",
     "status": "completed"
    },
    "tags": []
   },
   "outputs": [],
   "source": []
  }
 ],
 "metadata": {
  "kaggle": {
   "accelerator": "none",
   "dataSources": [
    {
     "datasetId": 4034094,
     "sourceId": 7016294,
     "sourceType": "datasetVersion"
    }
   ],
   "dockerImageVersionId": 30626,
   "isGpuEnabled": false,
   "isInternetEnabled": false,
   "language": "python",
   "sourceType": "notebook"
  },
  "kernelspec": {
   "display_name": "venv",
   "language": "python",
   "name": "python3"
  },
  "language_info": {
   "codemirror_mode": {
    "name": "ipython",
    "version": 3
   },
   "file_extension": ".py",
   "mimetype": "text/x-python",
   "name": "python",
   "nbconvert_exporter": "python",
   "pygments_lexer": "ipython3",
   "version": "3.12.4"
  },
  "papermill": {
   "default_parameters": {},
   "duration": 40.400938,
   "end_time": "2023-12-22T20:48:10.398033",
   "environment_variables": {},
   "exception": null,
   "input_path": "__notebook__.ipynb",
   "output_path": "__notebook__.ipynb",
   "parameters": {},
   "start_time": "2023-12-22T20:47:29.997095",
   "version": "2.4.0"
  }
 },
 "nbformat": 4,
 "nbformat_minor": 5
}
